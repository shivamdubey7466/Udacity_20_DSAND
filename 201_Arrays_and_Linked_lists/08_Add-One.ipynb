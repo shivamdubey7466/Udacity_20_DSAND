{
 "cells": [
  {
   "cell_type": "markdown",
   "metadata": {},
   "source": [
    "### Problem Statement\n",
    "\n",
    "You are given a non-negative number in the form of list elements. For example, the number `123` would be provided as `arr = [1, 2, 3]`. Add one to the number and return the output in the form of a new list. \n",
    "\n",
    "**Example 1:**\n",
    "* `input = [1, 2, 3]`\n",
    "* `output = [1, 2, 4]`\n",
    "\n",
    "**Example 2:**\n",
    "* `input = [9, 9, 9]`\n",
    "* `output = [1, 0, 0, 0]`\n",
    "\n",
    "**Challenge:**\n",
    "\n",
    "One way to solve this problem is to convert the input array into a number and then add one to it. For example, if we have `input = [1, 2, 3]`, you could solve this problem by creating the number `123` and then separating the digits of the output number `124`.\n",
    "\n",
    "But can you solve it in some other way?\n",
    "\n"
   ]
  },
  {
   "cell_type": "code",
   "execution_count": 18,
   "metadata": {},
   "outputs": [
    {
     "data": {
      "text/plain": [
       "[1, 0, 0, 0]"
      ]
     },
     "execution_count": 18,
     "metadata": {},
     "output_type": "execute_result"
    }
   ],
   "source": [
    "def add_one(input_list):\n",
    "    temp_str = [str(i) for i in input_list]\n",
    "    temp_str = ''.join(temp_str)\n",
    "    temp_int = int(temp_str)+1\n",
    "    temp_list = [int(i) for i in str(temp_int) ]\n",
    "    return temp_list\n",
    "\n",
    "add_one([9,9,9])"
   ]
  }
 ],
 "metadata": {
  "kernelspec": {
   "display_name": "Python 3",
   "language": "python",
   "name": "python3"
  },
  "language_info": {
   "codemirror_mode": {
    "name": "ipython",
    "version": 3
   },
   "file_extension": ".py",
   "mimetype": "text/x-python",
   "name": "python",
   "nbconvert_exporter": "python",
   "pygments_lexer": "ipython3",
   "version": "3.7.6"
  }
 },
 "nbformat": 4,
 "nbformat_minor": 4
}
