{
 "cells": [
  {
   "cell_type": "markdown",
   "metadata": {},
   "source": [
    "# Implementing and traversing a linked list\n",
    "\n",
    "In this notebook we'll get some practice implementing a basic linked list—something like this:  \n",
    "\n",
    "<img style=\"float: left;\" src=\"assets/linked_list_head_none.png\">"
   ]
  },
  {
   "cell_type": "markdown",
   "metadata": {},
   "source": [
    "## Key characteristics\n",
    "\n",
    "First, let's review the overall abstract concepts for this data structure. To get started, click the walkthrough button below."
   ]
  },
  {
   "cell_type": "markdown",
   "metadata": {},
   "source": [
    "<span class=\"graffiti-highlight graffiti-id_fx1ii1b-id_p4ecakd\"><i></i><button>Walkthrough</button></span>"
   ]
  },
  {
   "cell_type": "markdown",
   "metadata": {},
   "source": [
    "## Implementing a simple linked list"
   ]
  },
  {
   "cell_type": "markdown",
   "metadata": {},
   "source": [
    "Now that we've talked about the abstract characteristics that we want our linked list to have, let's look at how we might implement one in Python."
   ]
  },
  {
   "cell_type": "markdown",
   "metadata": {},
   "source": [
    "<span class=\"graffiti-highlight graffiti-id_rytkj5r-id_b4xxfs5\"><i></i><button>Walkthrough</button></span>"
   ]
  },
  {
   "cell_type": "code",
   "execution_count": 1,
   "metadata": {},
   "outputs": [],
   "source": [
    "class Node(object):\n",
    "    def __init__(self, value):\n",
    "        self.value = value\n",
    "        self.next = None"
   ]
  },
  {
   "cell_type": "markdown",
   "metadata": {},
   "source": [
    "Once you've seen the walkthrough, give it a try for yourself:\n",
    "* Create a `Node` class with `value` and `next` attributes\n",
    "* Use the class to create the `head` node with the value `2`\n",
    "* Create and link a second node containing the value `1`\n",
    "* Try printing the values (`1` and `2`) on the nodes you created (to make sure that you can access them!)"
   ]
  },
  {
   "cell_type": "code",
   "execution_count": 2,
   "metadata": {},
   "outputs": [
    {
     "name": "stdout",
     "output_type": "stream",
     "text": [
      "2\n",
      "1\n"
     ]
    }
   ],
   "source": [
    "class Node(object):\n",
    "    def __init__(self,value):\n",
    "        self.value = value\n",
    "        self.next = None\n",
    "        \n",
    "head = Node(2)\n",
    "head.next = Node(1)\n",
    "\n",
    "print(head.value)\n",
    "print(head.next.value)"
   ]
  },
  {
   "cell_type": "markdown",
   "metadata": {},
   "source": [
    "At this point, our linked list looks like this:  \n",
    "\n",
    "<img style=\"float: left;\" src=\"assets/linked_list_two_nodes.png\">"
   ]
  },
  {
   "cell_type": "markdown",
   "metadata": {},
   "source": [
    "Our goal is to extend the list until it looks like this:\n",
    "\n",
    "<img style=\"float: left;\" src=\"assets/linked_list_head_none.png\">"
   ]
  },
  {
   "cell_type": "markdown",
   "metadata": {},
   "source": [
    "To do this, we need to create three more nodes, and we need to attach each one to the `next` attribute of the node that comes before it. Notice that we don't have a direct reference to any of the nodes other than the `head` node!\n",
    "\n",
    "See if you can write the code to finish creating the above list:\n",
    "* Add three more nodes to the list, with the values `4`, `3`, and `5`"
   ]
  },
  {
   "cell_type": "code",
   "execution_count": 3,
   "metadata": {},
   "outputs": [
    {
     "name": "stdout",
     "output_type": "stream",
     "text": [
      "2\n",
      "1\n",
      "4\n",
      "3\n",
      "5\n"
     ]
    }
   ],
   "source": [
    "head.next.next = Node(4)\n",
    "head.next.next.next = Node(3)\n",
    "head.next.next.next.next = Node(5)\n",
    "\n",
    "print(head.value)\n",
    "print(head.next.value)\n",
    "print(head.next.next.value)\n",
    "print(head.next.next.next.value)\n",
    "print(head.next.next.next.next.value)"
   ]
  },
  {
   "cell_type": "markdown",
   "metadata": {},
   "source": [
    "Let's print the values of all the nodes to check if it worked. If you successfully created (and linked) all the nodes, the following should print out `2`, `1`, `4`, `3`, `5`:"
   ]
  },
  {
   "cell_type": "markdown",
   "metadata": {},
   "source": [
    "## Traversing the list"
   ]
  },
  {
   "cell_type": "markdown",
   "metadata": {},
   "source": [
    "OK, great! We successfully created a simple linked list. But printing all the values like we did above was pretty tedious. What if we had a list with 1,000 nodes? \n",
    "\n",
    "Let's see how we might traverse the list and print all the values, no matter how long it might be."
   ]
  },
  {
   "cell_type": "markdown",
   "metadata": {},
   "source": [
    "<span class=\"graffiti-highlight graffiti-id_fgyadie-id_g9gdx9q\"><i></i><button>Walkthrough</button></span>"
   ]
  },
  {
   "cell_type": "markdown",
   "metadata": {},
   "source": [
    "Once you've seen the walkthrough, give it a try for yourself:\n",
    "* Write a function that loops through the nodes of the list and prints all of the values"
   ]
  },
  {
   "cell_type": "code",
   "execution_count": 4,
   "metadata": {},
   "outputs": [
    {
     "name": "stdout",
     "output_type": "stream",
     "text": [
      "2\n",
      "1\n",
      "4\n",
      "3\n",
      "5\n"
     ]
    }
   ],
   "source": [
    "def traversing(node):\n",
    "    \n",
    "    current_node = node\n",
    "    \n",
    "    while current_node!=None:\n",
    "        print(current_node.value)\n",
    "        current_node = current_node.next\n",
    "    return\n",
    "\n",
    "traversing(head)"
   ]
  },
  {
   "cell_type": "markdown",
   "metadata": {},
   "source": [
    "## Creating a linked list using iteration"
   ]
  },
  {
   "cell_type": "markdown",
   "metadata": {},
   "source": [
    "Previously, we created a linked list using a very manual and tedious method. We called `next` multiple times on our `head` node. \n",
    "\n",
    "Now that we know about iterating over or traversing the linked list, is there a way we can use that to create a linked list?\n",
    "\n",
    "We've provided our solution below—but it might be a good exercise to see what you can come up with first. Here's the goal:\n",
    "* See if you can write the code for the `create_linked_list` function below\n",
    "* The function should take a Python list of values as input and return the `head` of a linked list that has those values\n",
    "* There's some test code, and also a solution, below—give it a try for yourself first, but don't hesitate to look over the solution if you get stuck"
   ]
  },
  {
   "cell_type": "code",
   "execution_count": 5,
   "metadata": {},
   "outputs": [],
   "source": [
    "def create_linked_list(input_list):\n",
    "    '''\n",
    "    Function to create linked list\n",
    "    Inputs: Python list of node values\n",
    "    output: Head node value\n",
    "    '''\n",
    "    head = None\n",
    "    tail = None\n",
    "    for i in input_list:\n",
    "        if head==None:\n",
    "            head = Node(i)\n",
    "            tail = head\n",
    "        else:\n",
    "            tail.next = Node(i)\n",
    "            tail = tail.next\n",
    "        \n",
    "        \n",
    "    return head\n",
    "            "
   ]
  },
  {
   "cell_type": "code",
   "execution_count": 6,
   "metadata": {},
   "outputs": [
    {
     "name": "stdout",
     "output_type": "stream",
     "text": [
      "Pass\n",
      "Pass\n",
      "Pass\n"
     ]
    }
   ],
   "source": [
    "### Test Code\n",
    "def test_function(input_list, head):\n",
    "    try:\n",
    "        if len(input_list) == 0:\n",
    "            if head is not None:\n",
    "                print(\"Fail\")\n",
    "                return\n",
    "        for value in input_list:\n",
    "            if head.value != value:\n",
    "                print(\"Fail\")\n",
    "                return\n",
    "            else:\n",
    "                head = head.next\n",
    "        print(\"Pass\")\n",
    "    except Exception as e:\n",
    "        print(\"Fail: \"  + e)\n",
    "        \n",
    "        \n",
    "\n",
    "input_list = [1, 2, 3, 4, 5, 6]\n",
    "head = create_linked_list(input_list)\n",
    "test_function(input_list, head)\n",
    "\n",
    "input_list = [1]\n",
    "head = create_linked_list(input_list)\n",
    "test_function(input_list, head)\n",
    "\n",
    "input_list = []\n",
    "head = create_linked_list(input_list)\n",
    "test_function(input_list, head)\n"
   ]
  }
 ],
 "metadata": {
  "kernelspec": {
   "display_name": "Python 3",
   "language": "python",
   "name": "python3"
  },
  "language_info": {
   "codemirror_mode": {
    "name": "ipython",
    "version": 3
   },
   "file_extension": ".py",
   "mimetype": "text/x-python",
   "name": "python",
   "nbconvert_exporter": "python",
   "pygments_lexer": "ipython3",
   "version": "3.7.6"
  }
 },
 "nbformat": 4,
 "nbformat_minor": 4
}
