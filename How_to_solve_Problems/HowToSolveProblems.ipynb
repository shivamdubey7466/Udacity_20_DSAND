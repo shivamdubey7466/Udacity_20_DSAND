{
 "cells": [
  {
   "cell_type": "markdown",
   "metadata": {},
   "source": [
    "# Days_b/w_dates"
   ]
  },
  {
   "cell_type": "markdown",
   "metadata": {},
   "source": [
    "Given you birthday and the current date, calculate your age in days. Compensate in leap days. Assume that the birthday and current dates are correct dates."
   ]
  },
  {
   "cell_type": "code",
   "execution_count": 17,
   "metadata": {},
   "outputs": [
    {
     "data": {
      "text/plain": [
       "365"
      ]
     },
     "execution_count": 17,
     "metadata": {},
     "output_type": "execute_result"
    }
   ],
   "source": [
    "daysOfMonths = [31,28,31,30,31,30,31,31,30,31,30,31]\n",
    "daysOfMonths_Leap = [31,29,31,30,31,30,31,31,30,31,30,31]\n",
    "def isLeapYear(year):\n",
    "    if year%4!=0:\n",
    "        return \"No\"\n",
    "    elif year%100!=0:\n",
    "        return \"Yes\"\n",
    "    elif year%400!=0:\n",
    "        return \"No\"\n",
    "    else:\n",
    "        return \"Yes\"\n",
    "    return None\n",
    "\n",
    "\n",
    "   \n",
    "def daysBetweenDates(y1,m1,d1,y2,m2,d2):\n",
    "\n",
    "  "
   ]
  },
  {
   "cell_type": "code",
   "execution_count": 5,
   "metadata": {},
   "outputs": [
    {
     "data": {
      "text/plain": [
       "(2013, 1, 1)"
      ]
     },
     "execution_count": 5,
     "metadata": {},
     "output_type": "execute_result"
    }
   ],
   "source": [
    "###\n",
    "### Define a simple nextDay procedure, that assumes\n",
    "### every month has 30 days.\n",
    "###\n",
    "### For example:\n",
    "###    nextDay(1999, 12, 30) => (2000, 1, 1)\n",
    "###    nextDay(2013, 1, 30) => (2013, 2, 1)\n",
    "###    nextDay(2012, 12, 30) => (2013, 1, 1)  (even though December really has 31 days)\n",
    "###\n",
    "\n",
    "def nextDay(year, month, day):\n",
    "    \"\"\"\n",
    "    Returns the year, month, day of the next day.\n",
    "    Simple version: assume every month has 30 days.\n",
    "    \"\"\"\n",
    "    if day==30:\n",
    "        day=1\n",
    "        if month==12:\n",
    "            month = 1\n",
    "            year+=1\n",
    "        else:\n",
    "            month+=1\n",
    "    else:\n",
    "        day+=1\n",
    "    return (year,month,day)\n",
    "\n"
   ]
  },
  {
   "cell_type": "code",
   "execution_count": 9,
   "metadata": {},
   "outputs": [
    {
     "data": {
      "text/plain": [
       "(2013, 1, 1)"
      ]
     },
     "execution_count": 9,
     "metadata": {},
     "output_type": "execute_result"
    }
   ],
   "source": [
    "###\n",
    "### Define a simple nextDay procedure, that assumes\n",
    "### every month has 30 days.\n",
    "###\n",
    "### For example:\n",
    "###    nextDay(1999, 12, 30) => (2000, 1, 1)\n",
    "###    nextDay(2013, 1, 30) => (2013, 2, 1)\n",
    "###    nextDay(2012, 12, 30) => (2013, 1, 1)  (even though December really has 31 days)\n",
    "###\n",
    "\n",
    "def nextDay(year, month, day):\n",
    "    \"\"\"\n",
    "    Returns the year, month, day of the next day.\n",
    "    Simple version: assume every month has 30 days.\n",
    "    \"\"\"\n",
    "    if day<30:\n",
    "        return year,month,day+1\n",
    "    else:\n",
    "        if month<12:\n",
    "            return (year,month+1,1)\n",
    "        else:\n",
    "            return (year+1,1,1)\n",
    "\n",
    "nextDay(2012, 12, 31)"
   ]
  },
  {
   "cell_type": "code",
   "execution_count": 20,
   "metadata": {},
   "outputs": [
    {
     "name": "stdout",
     "output_type": "stream",
     "text": [
      "Please put correct input\n",
      "Test with data: (2013, 9, 30, 2012, 10, 30) failed\n",
      "Test case passed!\n",
      "Test case passed!\n"
     ]
    }
   ],
   "source": [
    "# Define a daysBetweenDates procedure that would produce the\n",
    "# correct output if there was a correct nextDay procedure.\n",
    "#\n",
    "# Note that this will NOT produce correct outputs yet, since\n",
    "# our nextDay procedure assumes all months have 30 days\n",
    "# (hence a year is 360 days, instead of 365).\n",
    "# \n",
    "\n",
    "def nextDay(year, month, day):\n",
    "    \"\"\"Simple version: assume every month has 30 days\"\"\"\n",
    "    if day < 30:\n",
    "        return (year, month, day + 1)\n",
    "    else:\n",
    "        if month == 12:\n",
    "            return (year + 1, 1, 1)\n",
    "        else:\n",
    "            return (year, month + 1, 1)\n",
    "        \n",
    "def daysBetweenDates(year1, month1, day1, year2, month2, day2):\n",
    "    \"\"\"Returns the number of days between year1/month1/day1\n",
    "       and year2/month2/day2. Assumes inputs are valid dates\n",
    "       in Gregorian calendar, and the first date is not after\n",
    "       the second.\"\"\"\n",
    "    global day \n",
    "    if year2<year1:\n",
    "        return \"Please put correct input\"\n",
    "    day = 0\n",
    "    date = day1\n",
    "    year = year1\n",
    "    month = month1\n",
    "    while ((year,month,date)!=(year2,month2,day2)):\n",
    "        (year,month,date)=nextDay(year,month,date)\n",
    "        day+=1\n",
    "    return day\n",
    "\n",
    "print(daysBetweenDates(2013,9,30,2012,10,30))\n",
    "def test():\n",
    "    test_cases = [((2013,9,30,2012,10,30),30), \n",
    "                  ((2012,1,1,2013,1,1),360),\n",
    "                  ((2012,9,1,2012,9,4),3)]\n",
    "    \n",
    "    for (args, answer) in test_cases:\n",
    "        result = daysBetweenDates(*args)\n",
    "        if result != answer:\n",
    "            print(\"Test with data:\", args, \"failed\")\n",
    "        else:\n",
    "            print(\"Test case passed!\")\n",
    "\n",
    "test()"
   ]
  },
  {
   "cell_type": "code",
   "execution_count": 25,
   "metadata": {},
   "outputs": [
    {
     "name": "stdout",
     "output_type": "stream",
     "text": [
      "Test case passed!\n",
      "Test case passed!\n",
      "Test case passed!\n",
      "Nice job! Test case (2013, 1, 1, 1999, 12, 31) correctly raises AssertionError!\n",
      "\n"
     ]
    }
   ],
   "source": [
    "#\n",
    "# Program defensively:\n",
    "#\n",
    "# What do you do if your input is invalid? For example what should\n",
    "# happen when date 1 is not before date 2?\n",
    "#\n",
    "# Add an assertion to the code for daysBetweenDates to give\n",
    "# an assertion failure when the inputs are invalid. This should\n",
    "# occur when the first date is not before the second date.\n",
    "#  \n",
    "\n",
    "def nextDay(year, month, day):\n",
    "    \"\"\"Simple version: assume every month has 30 days\"\"\"\n",
    "    if day < 30:\n",
    "        return year, month, day + 1\n",
    "    else:\n",
    "        if month == 12:\n",
    "            return year + 1, 1, 1\n",
    "        else:\n",
    "            return year, month + 1, 1\n",
    "        \n",
    "def dateIsBefore(year1, month1, day1, year2, month2, day2):\n",
    "    \"\"\"Returns True if year1-month1-day1 is before\n",
    "       year2-month2-day2. Otherwise, returns False.\"\"\"\n",
    "    if year1 < year2:\n",
    "        return True\n",
    "    if year1 == year2:\n",
    "        if month1 < month2:\n",
    "            return True\n",
    "        if month1 == month2:\n",
    "            return day1 < day2\n",
    "    return False        \n",
    "\n",
    "def daysBetweenDates(year1, month1, day1, year2, month2, day2):\n",
    "    \"\"\"Returns the number of days between year1/month1/day1\n",
    "       and year2/month2/day2. Assumes inputs are valid dates\n",
    "       in Gregorian calendar.\"\"\"\n",
    "    # program defensively! Add an assertion if the input is not valid!\n",
    "\n",
    "    days = 0\n",
    "    \n",
    "    assert dateIsBefore(year1, month1, day1, year2, month2, day2) \n",
    "    \n",
    "    while dateIsBefore(year1, month1, day1, year2, month2, day2):\n",
    "        year1, month1, day1 = nextDay(year1, month1, day1)\n",
    "        days += 1\n",
    "    return days\n",
    "\n",
    "def test():\n",
    "    test_cases = [((2012,9,30,2012,10,30),30), \n",
    "                  ((2012,1,1,2013,1,1),360),\n",
    "                  ((2012,9,1,2012,9,4),3),\n",
    "                  ((2013,1,1,1999,12,31), \"AssertionError\")]\n",
    "    \n",
    "    for (args, answer) in test_cases:\n",
    "        try:\n",
    "            result = daysBetweenDates(*args)\n",
    "            if result == answer and answer != \"AssertionError\":\n",
    "                print(\"Test case passed!\")\n",
    "            else:\n",
    "                print(\"Test with data:\", args, \"failed\")\n",
    "    \n",
    "        except AssertionError:\n",
    "            if answer == \"AssertionError\":\n",
    "                print(\"Nice job! Test case {0} correctly raises AssertionError!\\n\".format(args))\n",
    "            else:\n",
    "                print(\"Check your work! Test case {0} should not raise AssertionError!\\n\".format(args))\n",
    "test()"
   ]
  },
  {
   "cell_type": "code",
   "execution_count": 34,
   "metadata": {},
   "outputs": [
    {
     "name": "stdout",
     "output_type": "stream",
     "text": [
      "Test case passed!\n",
      "Test case passed!\n",
      "Test case passed!\n",
      "Test case passed!\n",
      "Test case passed!\n",
      "Test case passed!\n",
      "Test case passed!\n",
      "Test case passed!\n",
      "Test case passed!\n",
      "Nice job! Test case (2013, 1, 1, 1999, 12, 31) correctly raises AssertionError!\n",
      "\n"
     ]
    }
   ],
   "source": [
    "#\n",
    "# Use Dave's suggestions to finish your daysBetweenDates\n",
    "# procedure. It will need to take into account leap years\n",
    "# in addition to the correct number of days in each month.\n",
    "\n",
    "def isLeapYear(year):\n",
    "    if year%4!=0:\n",
    "        return False\n",
    "    elif year%100!=0:\n",
    "        return True\n",
    "    elif year%400!=0:\n",
    "        return False\n",
    "    else:\n",
    "        return True\n",
    "    return False\n",
    "\n",
    "def daysInMonth(year,month):\n",
    "    if month in (1,3,5,7,8,10,12):\n",
    "        return 31\n",
    "    if month==2:\n",
    "        leap = isLeapYear(year)\n",
    "        if leap!=True:\n",
    "            return 28\n",
    "        else:\n",
    "            return 29\n",
    "    return 30\n",
    "\n",
    "def nextDay(year, month, day):\n",
    "    \"\"\"Simple version: assume every month has 30 days\"\"\"\n",
    "    if day < daysInMonth(year,month):\n",
    "        return year, month, day + 1\n",
    "    else:\n",
    "        if month == 12:\n",
    "            return year + 1, 1, 1\n",
    "        else:\n",
    "            return year, month + 1, 1\n",
    "        \n",
    "def dateIsBefore(year1, month1, day1, year2, month2, day2):\n",
    "    \"\"\"Returns True if year1-month1-day1 is before year2-month2-day2. Otherwise, returns False.\"\"\"\n",
    "    if year1 < year2:\n",
    "        return True\n",
    "    if year1 == year2:\n",
    "        if month1 < month2:\n",
    "            return True\n",
    "        if month1 == month2:\n",
    "            return day1 < day2\n",
    "    return False   \n",
    "\n",
    "\n",
    "def daysBetweenDates(year1, month1, day1, year2, month2, day2):\n",
    "    \"\"\"Returns the number of days between year1/month1/day1\n",
    "       and year2/month2/day2. Assumes inputs are valid dates\n",
    "       in Gregorian calendar.\"\"\"\n",
    "    # program defensively! Add an assertion if the input is not valid!\n",
    "    assert dateIsBefore(year1, month1, day1,year2, month2, day2)\n",
    "    days = 0\n",
    "    while dateIsBefore(year1, month1, day1, year2, month2, day2):\n",
    "        year1, month1, day1 = nextDay(year1, month1, day1)\n",
    "        days += 1\n",
    "    return days\n",
    "\n",
    "\n",
    "\n",
    "def test():\n",
    "    test_cases = [((2012,9,30,2012,10,30),30), \n",
    "                  ((2012,1,1,2013,1,1),366),\n",
    "                  ((2012,9,1,2012,9,4),3),\n",
    "                  ((2012,1,1,2012,2,28), 58), \n",
    "                  ((2012,1,1,2012,3,1), 60),\n",
    "                  ((2011,6,30,2012,6,30), 366),\n",
    "                  ((2011,1,1,2012,8,8), 585 ),\n",
    "                  ((1900,1,1,1999,12,31), 36523),\n",
    "                 ((2013,1,1,2014,1,1), 365),\n",
    "                  ((2013,1,1,1999,12,31), \"AssertionError\")]\n",
    "    \n",
    "    for (args, answer) in test_cases:\n",
    "        try:\n",
    "            result = daysBetweenDates(*args)\n",
    "            if result == answer and answer != \"AssertionError\":\n",
    "                print(\"Test case passed!\")\n",
    "            else:\n",
    "                print(\"Test with data:\", args, \"failed\")\n",
    "    \n",
    "        except AssertionError:\n",
    "            if answer == \"AssertionError\":\n",
    "                print(\"Nice job! Test case {0} correctly raises AssertionError!\\n\".format(args))\n",
    "            else:\n",
    "                print(\"Check your work! Test case {0} should not raise AssertionError!\\n\".format(args))\n",
    "                \n",
    "test()"
   ]
  },
  {
   "cell_type": "code",
   "execution_count": null,
   "metadata": {},
   "outputs": [],
   "source": []
  }
 ],
 "metadata": {
  "kernelspec": {
   "display_name": "Python 3",
   "language": "python",
   "name": "python3"
  },
  "language_info": {
   "codemirror_mode": {
    "name": "ipython",
    "version": 3
   },
   "file_extension": ".py",
   "mimetype": "text/x-python",
   "name": "python",
   "nbconvert_exporter": "python",
   "pygments_lexer": "ipython3",
   "version": "3.7.6"
  }
 },
 "nbformat": 4,
 "nbformat_minor": 4
}
